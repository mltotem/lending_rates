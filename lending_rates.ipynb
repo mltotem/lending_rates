{
 "cells": [
  {
   "cell_type": "markdown",
   "execution_count": null,
   "metadata": {},
   "source": [
    "**=======<<<< Check what loan_status does not meet credit policy mean >>>============**"
   ]
  },
  {
   "cell_type": "markdown",
   "execution_count": null,
   "metadata": {},
   "source": [
    "# 1. Introduction\n",
    "\n",
    "Kaggle has a dataset that contains loan data issued by the Lending Club from 2007-2015 including the current loan status.\n",
    "\n",
    "From their website, all their personal loans are fixed rate loans.  The “int rate” column in the dataset indicates the fixed rate when the loan was originated.\n",
    "\n",
    "To check if the Lending Club’s risk model is functioning well, the int rate can be compared between loans that were paid off and loans that didn’t perform well.\n",
    "\n",
    "This info could be used by Lending Club executives, investors, and even competitors.\n"
   ]
  },
  {
   "cell_type": "markdown",
   "execution_count": null,
   "metadata": {},
   "source": [
    "# 2. Hypothesis\n",
    "\n",
    "Ho: There is no significant difference between the int rate charged for the loans that resulted in being delinquent vs loans that were paid off.\n",
    "\n",
    "Ha: There is a significant difference between the int rate charged for the loans that resulted in being delinquent vs loans that were paid off."
   ]
  },
  {
   "cell_type": "markdown",
   "execution_count": null,
   "metadata": {},
   "source": [
    "# 3. Data"
   ]
  },
  {
   "cell_type": "code",
   "execution_count": 1,
   "metadata": {
    "_cell_guid": "b1076dfc-b9ad-4769-8c92-a6c4dae69d19",
    "_uuid": "8f2839f25d086af736a60e9eeb907d3b93b6e0e5"
   },
   "outputs": [
    {
     "name": "stdout",
     "output_type": "stream",
     "text": [
      "/kaggle/input/lending-club-loan-data/database.sqlite\n",
      "/kaggle/input/lending-club-loan-data/LCDataDictionary.xlsx\n",
      "/kaggle/input/lending-club-loan-data/loan.csv\n"
     ]
    }
   ],
   "source": [
    "# This Python 3 environment comes with many helpful analytics libraries installed\n",
    "# It is defined by the kaggle/python docker image: https://github.com/kaggle/docker-python\n",
    "# For example, here's several helpful packages to load in \n",
    "\n",
    "import numpy as np # linear algebra\n",
    "import pandas as pd # data processing, CSV file I/O (e.g. pd.read_csv)\n",
    "import matplotlib.pyplot as plt\n",
    "import seaborn as sns\n",
    "from scipy import stats\n",
    "\n",
    "# Input data files are available in the \"../input/\" directory.\n",
    "# For example, running this (by clicking run or pressing Shift+Enter) will list all files under the input directory\n",
    "\n",
    "import os\n",
    "for dirname, _, filenames in os.walk('/kaggle/input'):\n",
    "    for filename in filenames:\n",
    "        print(os.path.join(dirname, filename))\n",
    "\n",
    "# Any results you write to the current directory are saved as output."
   ]
  },
  {
   "cell_type": "markdown",
   "execution_count": null,
   "metadata": {},
   "source": [
    "Load the data and take a peek"
   ]
  },
  {
   "cell_type": "code",
   "execution_count": 2,
   "metadata": {
    "_cell_guid": "79c7e3d0-c299-4dcb-8224-4455121ee9b0",
    "_uuid": "d629ff2d2480ee46fbb7e2d37f6b5fab8052498a"
   },
   "outputs": [
    {
     "name": "stderr",
     "output_type": "stream",
     "text": [
      "/opt/conda/lib/python3.6/site-packages/IPython/core/interactiveshell.py:3058: DtypeWarning: Columns (19,47,55,112,123,124,125,128,129,130,133,139,140,141) have mixed types. Specify dtype option on import or set low_memory=False.\n",
      "  interactivity=interactivity, compiler=compiler, result=result)\n"
     ]
    },
    {
     "name": "stdout",
     "output_type": "stream",
     "text": [
      "<class 'pandas.core.frame.DataFrame'>\n",
      "RangeIndex: 2260668 entries, 0 to 2260667\n",
      "Columns: 145 entries, id to settlement_term\n",
      "dtypes: float64(105), int64(4), object(36)\n",
      "memory usage: 2.4+ GB\n"
     ]
    },
    {
     "data": {
      "text/html": [
       "<div>\n",
       "<style scoped>\n",
       "    .dataframe tbody tr th:only-of-type {\n",
       "        vertical-align: middle;\n",
       "    }\n",
       "\n",
       "    .dataframe tbody tr th {\n",
       "        vertical-align: top;\n",
       "    }\n",
       "\n",
       "    .dataframe thead th {\n",
       "        text-align: right;\n",
       "    }\n",
       "</style>\n",
       "<table border=\"1\" class=\"dataframe\">\n",
       "  <thead>\n",
       "    <tr style=\"text-align: right;\">\n",
       "      <th></th>\n",
       "      <th>id</th>\n",
       "      <th>member_id</th>\n",
       "      <th>loan_amnt</th>\n",
       "      <th>funded_amnt</th>\n",
       "      <th>funded_amnt_inv</th>\n",
       "      <th>term</th>\n",
       "      <th>int_rate</th>\n",
       "      <th>installment</th>\n",
       "      <th>grade</th>\n",
       "      <th>sub_grade</th>\n",
       "      <th>...</th>\n",
       "      <th>hardship_payoff_balance_amount</th>\n",
       "      <th>hardship_last_payment_amount</th>\n",
       "      <th>disbursement_method</th>\n",
       "      <th>debt_settlement_flag</th>\n",
       "      <th>debt_settlement_flag_date</th>\n",
       "      <th>settlement_status</th>\n",
       "      <th>settlement_date</th>\n",
       "      <th>settlement_amount</th>\n",
       "      <th>settlement_percentage</th>\n",
       "      <th>settlement_term</th>\n",
       "    </tr>\n",
       "  </thead>\n",
       "  <tbody>\n",
       "    <tr>\n",
       "      <th>0</th>\n",
       "      <td>NaN</td>\n",
       "      <td>NaN</td>\n",
       "      <td>2500</td>\n",
       "      <td>2500</td>\n",
       "      <td>2500.0</td>\n",
       "      <td>36 months</td>\n",
       "      <td>13.56</td>\n",
       "      <td>84.92</td>\n",
       "      <td>C</td>\n",
       "      <td>C1</td>\n",
       "      <td>...</td>\n",
       "      <td>NaN</td>\n",
       "      <td>NaN</td>\n",
       "      <td>Cash</td>\n",
       "      <td>N</td>\n",
       "      <td>NaN</td>\n",
       "      <td>NaN</td>\n",
       "      <td>NaN</td>\n",
       "      <td>NaN</td>\n",
       "      <td>NaN</td>\n",
       "      <td>NaN</td>\n",
       "    </tr>\n",
       "    <tr>\n",
       "      <th>1</th>\n",
       "      <td>NaN</td>\n",
       "      <td>NaN</td>\n",
       "      <td>30000</td>\n",
       "      <td>30000</td>\n",
       "      <td>30000.0</td>\n",
       "      <td>60 months</td>\n",
       "      <td>18.94</td>\n",
       "      <td>777.23</td>\n",
       "      <td>D</td>\n",
       "      <td>D2</td>\n",
       "      <td>...</td>\n",
       "      <td>NaN</td>\n",
       "      <td>NaN</td>\n",
       "      <td>Cash</td>\n",
       "      <td>N</td>\n",
       "      <td>NaN</td>\n",
       "      <td>NaN</td>\n",
       "      <td>NaN</td>\n",
       "      <td>NaN</td>\n",
       "      <td>NaN</td>\n",
       "      <td>NaN</td>\n",
       "    </tr>\n",
       "    <tr>\n",
       "      <th>2</th>\n",
       "      <td>NaN</td>\n",
       "      <td>NaN</td>\n",
       "      <td>5000</td>\n",
       "      <td>5000</td>\n",
       "      <td>5000.0</td>\n",
       "      <td>36 months</td>\n",
       "      <td>17.97</td>\n",
       "      <td>180.69</td>\n",
       "      <td>D</td>\n",
       "      <td>D1</td>\n",
       "      <td>...</td>\n",
       "      <td>NaN</td>\n",
       "      <td>NaN</td>\n",
       "      <td>Cash</td>\n",
       "      <td>N</td>\n",
       "      <td>NaN</td>\n",
       "      <td>NaN</td>\n",
       "      <td>NaN</td>\n",
       "      <td>NaN</td>\n",
       "      <td>NaN</td>\n",
       "      <td>NaN</td>\n",
       "    </tr>\n",
       "    <tr>\n",
       "      <th>3</th>\n",
       "      <td>NaN</td>\n",
       "      <td>NaN</td>\n",
       "      <td>4000</td>\n",
       "      <td>4000</td>\n",
       "      <td>4000.0</td>\n",
       "      <td>36 months</td>\n",
       "      <td>18.94</td>\n",
       "      <td>146.51</td>\n",
       "      <td>D</td>\n",
       "      <td>D2</td>\n",
       "      <td>...</td>\n",
       "      <td>NaN</td>\n",
       "      <td>NaN</td>\n",
       "      <td>Cash</td>\n",
       "      <td>N</td>\n",
       "      <td>NaN</td>\n",
       "      <td>NaN</td>\n",
       "      <td>NaN</td>\n",
       "      <td>NaN</td>\n",
       "      <td>NaN</td>\n",
       "      <td>NaN</td>\n",
       "    </tr>\n",
       "    <tr>\n",
       "      <th>4</th>\n",
       "      <td>NaN</td>\n",
       "      <td>NaN</td>\n",
       "      <td>30000</td>\n",
       "      <td>30000</td>\n",
       "      <td>30000.0</td>\n",
       "      <td>60 months</td>\n",
       "      <td>16.14</td>\n",
       "      <td>731.78</td>\n",
       "      <td>C</td>\n",
       "      <td>C4</td>\n",
       "      <td>...</td>\n",
       "      <td>NaN</td>\n",
       "      <td>NaN</td>\n",
       "      <td>Cash</td>\n",
       "      <td>N</td>\n",
       "      <td>NaN</td>\n",
       "      <td>NaN</td>\n",
       "      <td>NaN</td>\n",
       "      <td>NaN</td>\n",
       "      <td>NaN</td>\n",
       "      <td>NaN</td>\n",
       "    </tr>\n",
       "  </tbody>\n",
       "</table>\n",
       "<p>5 rows × 145 columns</p>\n",
       "</div>"
      ],
      "text/plain": [
       "   id  member_id  loan_amnt  funded_amnt  funded_amnt_inv        term  \\\n",
       "0 NaN        NaN       2500         2500           2500.0   36 months   \n",
       "1 NaN        NaN      30000        30000          30000.0   60 months   \n",
       "2 NaN        NaN       5000         5000           5000.0   36 months   \n",
       "3 NaN        NaN       4000         4000           4000.0   36 months   \n",
       "4 NaN        NaN      30000        30000          30000.0   60 months   \n",
       "\n",
       "   int_rate  installment grade sub_grade  ... hardship_payoff_balance_amount  \\\n",
       "0     13.56        84.92     C        C1  ...                            NaN   \n",
       "1     18.94       777.23     D        D2  ...                            NaN   \n",
       "2     17.97       180.69     D        D1  ...                            NaN   \n",
       "3     18.94       146.51     D        D2  ...                            NaN   \n",
       "4     16.14       731.78     C        C4  ...                            NaN   \n",
       "\n",
       "  hardship_last_payment_amount disbursement_method  debt_settlement_flag  \\\n",
       "0                          NaN                Cash                     N   \n",
       "1                          NaN                Cash                     N   \n",
       "2                          NaN                Cash                     N   \n",
       "3                          NaN                Cash                     N   \n",
       "4                          NaN                Cash                     N   \n",
       "\n",
       "  debt_settlement_flag_date settlement_status settlement_date  \\\n",
       "0                       NaN               NaN             NaN   \n",
       "1                       NaN               NaN             NaN   \n",
       "2                       NaN               NaN             NaN   \n",
       "3                       NaN               NaN             NaN   \n",
       "4                       NaN               NaN             NaN   \n",
       "\n",
       "  settlement_amount  settlement_percentage settlement_term  \n",
       "0               NaN                    NaN             NaN  \n",
       "1               NaN                    NaN             NaN  \n",
       "2               NaN                    NaN             NaN  \n",
       "3               NaN                    NaN             NaN  \n",
       "4               NaN                    NaN             NaN  \n",
       "\n",
       "[5 rows x 145 columns]"
      ]
     },
     "execution_count": 2,
     "metadata": {},
     "output_type": "execute_result"
    }
   ],
   "source": [
    "df = pd.read_csv('/kaggle/input/lending-club-loan-data/loan.csv')\n",
    "df.info()\n",
    "df.head()"
   ]
  },
  {
   "cell_type": "markdown",
   "execution_count": null,
   "metadata": {},
   "source": [
    "There are 145 columns.\n",
    "\n",
    "Separate to ones with <20 unique columns and others"
   ]
  },
  {
   "cell_type": "code",
   "execution_count": 3,
   "metadata": {},
   "outputs": [
    {
     "name": "stdout",
     "output_type": "stream",
     "text": [
      "id [nan]\n",
      "member_id [nan]\n",
      "term [' 36 months' ' 60 months']\n",
      "grade ['C' 'D' 'B' 'A' 'E' 'F' 'G']\n",
      "emp_length ['10+ years' '6 years' '4 years' '< 1 year' '2 years' '9 years' nan\n",
      " '5 years' '3 years' '7 years' '1 year' '8 years']\n",
      "home_ownership ['RENT' 'MORTGAGE' 'OWN' 'ANY' 'NONE' 'OTHER']\n",
      "verification_status ['Not Verified' 'Source Verified' 'Verified']\n",
      "loan_status ['Current' 'Fully Paid' 'Late (31-120 days)' 'In Grace Period'\n",
      " 'Charged Off' 'Late (16-30 days)' 'Default'\n",
      " 'Does not meet the credit policy. Status:Fully Paid'\n",
      " 'Does not meet the credit policy. Status:Charged Off']\n",
      "pymnt_plan ['n' 'y']\n",
      "url [nan]\n",
      "purpose ['debt_consolidation' 'credit_card' 'house' 'car' 'other' 'vacation'\n",
      " 'home_improvement' 'small_business' 'major_purchase' 'medical'\n",
      " 'renewable_energy' 'moving' 'wedding' 'educational']\n",
      "initial_list_status ['w' 'f']\n",
      "collections_12_mths_ex_med [ 0.  1.  2.  4.  3.  5.  6.  8.  9. 10.  7. 20. 11. 12. 14. 16. nan]\n",
      "policy_code [1]\n",
      "application_type ['Individual' 'Joint App']\n",
      "verification_status_joint [nan 'Verified' 'Not Verified' 'Source Verified']\n",
      "acc_now_delinq [ 0.  1.  2.  3.  4.  6.  5. 14.  7. nan]\n",
      "chargeoff_within_12_mths [ 0.  1.  4.  2.  3.  7.  5.  6.  9. 10.  8. nan]\n",
      "num_tl_120dpd_2m [ 0. nan  1.  2.  4.  3.  6.  7.]\n",
      "num_tl_30dpd [ 0.  1.  2.  3.  4. nan]\n",
      "pub_rec_bankruptcies [ 1.  0.  3.  2.  4.  5.  6.  7.  8.  9. 11. 12. nan]\n",
      "sec_app_inq_last_6mths [nan  2.  0.  1.  4.  3.  5.  6.]\n",
      "sec_app_collections_12_mths_ex_med [nan  0.  2. 10.  1.  3.  4.  5.  8.  6. 15. 12.  9. 18. 19. 23.  7. 11.\n",
      " 16.]\n",
      "hardship_flag ['N' 'Y']\n",
      "hardship_type [nan 'INTEREST ONLY-3 MONTHS DEFERRAL']\n",
      "hardship_reason [nan 'UNEMPLOYMENT' 'NATURAL_DISASTER' 'EXCESSIVE_OBLIGATIONS' 'MEDICAL'\n",
      " 'INCOME_CURTAILMENT' 'DISABILITY' 'REDUCED_HOURS' 'FAMILY_DEATH'\n",
      " 'DIVORCE']\n",
      "hardship_status [nan 'ACTIVE' 'COMPLETED' 'BROKEN']\n",
      "deferral_term [nan  3.]\n",
      "hardship_length [nan  3.]\n",
      "hardship_loan_status [nan 'Late (16-30 days)' 'Issued' 'Current' 'Late (31-120 days)'\n",
      " 'In Grace Period']\n",
      "disbursement_method ['Cash' 'DirectPay']\n",
      "debt_settlement_flag ['N' 'Y']\n",
      "settlement_status [nan 'ACTIVE' 'COMPLETE' 'BROKEN']\n"
     ]
    }
   ],
   "source": [
    "# first, display variables containing < 20 unique values\n",
    "many_valued = []\n",
    "prob_categorical = []\n",
    "for column in df.columns:\n",
    "    if(len(df[column].unique()) < 20):\n",
    "        print(column, df[column].unique() )\n",
    "        prob_categorical.append(column)\n",
    "    else:\n",
    "        many_valued.append(column)"
   ]
  },
  {
   "cell_type": "code",
   "execution_count": 4,
   "metadata": {},
   "outputs": [
    {
     "name": "stdout",
     "output_type": "stream",
     "text": [
      "loan_amnt\n",
      "funded_amnt\n",
      "funded_amnt_inv\n",
      "int_rate\n",
      "installment\n",
      "sub_grade\n",
      "emp_title\n",
      "annual_inc\n",
      "issue_d\n",
      "desc\n",
      "title\n",
      "zip_code\n",
      "addr_state\n",
      "dti\n",
      "delinq_2yrs\n",
      "earliest_cr_line\n",
      "inq_last_6mths\n",
      "mths_since_last_delinq\n",
      "mths_since_last_record\n",
      "open_acc\n",
      "pub_rec\n",
      "revol_bal\n",
      "revol_util\n",
      "total_acc\n",
      "out_prncp\n",
      "out_prncp_inv\n",
      "total_pymnt\n",
      "total_pymnt_inv\n",
      "total_rec_prncp\n",
      "total_rec_int\n",
      "total_rec_late_fee\n",
      "recoveries\n",
      "collection_recovery_fee\n",
      "last_pymnt_d\n",
      "last_pymnt_amnt\n",
      "next_pymnt_d\n",
      "last_credit_pull_d\n",
      "mths_since_last_major_derog\n",
      "annual_inc_joint\n",
      "dti_joint\n",
      "tot_coll_amt\n",
      "tot_cur_bal\n",
      "open_acc_6m\n",
      "open_act_il\n",
      "open_il_12m\n",
      "open_il_24m\n",
      "mths_since_rcnt_il\n",
      "total_bal_il\n",
      "il_util\n",
      "open_rv_12m\n",
      "open_rv_24m\n",
      "max_bal_bc\n",
      "all_util\n",
      "total_rev_hi_lim\n",
      "inq_fi\n",
      "total_cu_tl\n",
      "inq_last_12m\n",
      "acc_open_past_24mths\n",
      "avg_cur_bal\n",
      "bc_open_to_buy\n",
      "bc_util\n",
      "delinq_amnt\n",
      "mo_sin_old_il_acct\n",
      "mo_sin_old_rev_tl_op\n",
      "mo_sin_rcnt_rev_tl_op\n",
      "mo_sin_rcnt_tl\n",
      "mort_acc\n",
      "mths_since_recent_bc\n",
      "mths_since_recent_bc_dlq\n",
      "mths_since_recent_inq\n",
      "mths_since_recent_revol_delinq\n",
      "num_accts_ever_120_pd\n",
      "num_actv_bc_tl\n",
      "num_actv_rev_tl\n",
      "num_bc_sats\n",
      "num_bc_tl\n",
      "num_il_tl\n",
      "num_op_rev_tl\n",
      "num_rev_accts\n",
      "num_rev_tl_bal_gt_0\n",
      "num_sats\n",
      "num_tl_90g_dpd_24m\n",
      "num_tl_op_past_12m\n",
      "pct_tl_nvr_dlq\n",
      "percent_bc_gt_75\n",
      "tax_liens\n",
      "tot_hi_cred_lim\n",
      "total_bal_ex_mort\n",
      "total_bc_limit\n",
      "total_il_high_credit_limit\n",
      "revol_bal_joint\n",
      "sec_app_earliest_cr_line\n",
      "sec_app_mort_acc\n",
      "sec_app_open_acc\n",
      "sec_app_revol_util\n",
      "sec_app_open_act_il\n",
      "sec_app_num_rev_accts\n",
      "sec_app_chargeoff_within_12_mths\n",
      "sec_app_mths_since_last_major_derog\n",
      "hardship_amount\n",
      "hardship_start_date\n",
      "hardship_end_date\n",
      "payment_plan_start_date\n",
      "hardship_dpd\n",
      "orig_projected_additional_accrued_interest\n",
      "hardship_payoff_balance_amount\n",
      "hardship_last_payment_amount\n",
      "debt_settlement_flag_date\n",
      "settlement_date\n",
      "settlement_amount\n",
      "settlement_percentage\n",
      "settlement_term\n"
     ]
    }
   ],
   "source": [
    "# display variables with >20 unique values\n",
    "print('\\n'.join(many_valued))"
   ]
  },
  {
   "cell_type": "markdown",
   "execution_count": null,
   "metadata": {},
   "source": [
    "The loan status feature will be used to determine if a loan is performing well or not."
   ]
  },
  {
   "cell_type": "code",
   "execution_count": 5,
   "metadata": {},
   "outputs": [
    {
     "data": {
      "text/plain": [
       "array(['Current', 'Fully Paid', 'Late (31-120 days)', 'In Grace Period',\n",
       "       'Charged Off', 'Late (16-30 days)', 'Default',\n",
       "       'Does not meet the credit policy. Status:Fully Paid',\n",
       "       'Does not meet the credit policy. Status:Charged Off'],\n",
       "      dtype=object)"
      ]
     },
     "execution_count": 5,
     "metadata": {},
     "output_type": "execute_result"
    }
   ],
   "source": [
    "# The loan status feature is categorical and can be one of the following values:\n",
    "df['loan_status'].unique()"
   ]
  },
  {
   "cell_type": "markdown",
   "execution_count": null,
   "metadata": {},
   "source": [
    "Visualize interest rate vs loan status values using a boxplot."
   ]
  },
  {
   "cell_type": "code",
   "execution_count": 6,
   "metadata": {},
   "outputs": [
    {
     "data": {
      "text/plain": [
       "[None,\n",
       " None,\n",
       " None,\n",
       " None,\n",
       " None,\n",
       " None,\n",
       " None,\n",
       " None,\n",
       " None,\n",
       " None,\n",
       " None,\n",
       " None,\n",
       " None,\n",
       " None,\n",
       " None,\n",
       " None,\n",
       " None,\n",
       " None]"
      ]
     },
     "execution_count": 6,
     "metadata": {},
     "output_type": "execute_result"
    },
    {
     "data": {
      "image/png": "[encoded data removed]",
      "text/plain": [
       "<Figure size 792x360 with 1 Axes>"
      ]
     },
     "metadata": {
      "needs_background": "light"
     },
     "output_type": "display_data"
    }
   ],
   "source": [
    "# boxplot for int_rate\n",
    "plt.figure(figsize = (11,5))\n",
    "ax = sns.boxplot(y='int_rate', x='loan_status', data=df)\n",
    "plt.setp(ax.get_xticklabels(), rotation=90)"
   ]
  },
  {
   "cell_type": "markdown",
   "execution_count": null,
   "metadata": {},
   "source": [
    "Loans that didn't perform well are those whose loan status feature are either one of the late categorical values or default."
   ]
  },
  {
   "cell_type": "markdown",
   "execution_count": null,
   "metadata": {},
   "source": [
    "Get the records that are 'Late' or in 'Default' including 'Charged Off', assign to late_df variable and print out descriptive statistics."
   ]
  },
  {
   "cell_type": "code",
   "execution_count": 7,
   "metadata": {},
   "outputs": [
    {
     "name": "stdout",
     "output_type": "stream",
     "text": [
      "<class 'pandas.core.frame.DataFrame'>\n",
      "Int64Index: 287320 entries, 1777 to 2260655\n",
      "Columns: 145 entries, id to settlement_term\n",
      "dtypes: float64(105), int64(4), object(36)\n",
      "memory usage: 320.0+ MB\n"
     ]
    }
   ],
   "source": [
    "# initial pass, info for 'Late'/'Default' records\n",
    "late_bool = df['loan_status'].isin(['Late (16-30 days)',\n",
    "              'Late (31-120 days)', 'Default', 'Charged Off'])\n",
    "late_df = df[late_bool.values]\n",
    "late_df.info()"
   ]
  },
  {
   "cell_type": "code",
   "execution_count": 8,
   "metadata": {},
   "outputs": [
    {
     "data": {
      "text/plain": [
       "count    287320.000000\n",
       "mean         15.709040\n",
       "std           4.939532\n",
       "min           5.310000\n",
       "25%          12.290000\n",
       "50%          15.040000\n",
       "75%          18.550000\n",
       "max          30.990000\n",
       "Name: int_rate, dtype: float64"
      ]
     },
     "execution_count": 8,
     "metadata": {},
     "output_type": "execute_result"
    }
   ],
   "source": [
    "late_df['int_rate'].describe()"
   ]
  },
  {
   "cell_type": "markdown",
   "execution_count": null,
   "metadata": {},
   "source": [
    "Also get the records that are fully paid and print out descriptive statistics."
   ]
  },
  {
   "cell_type": "code",
   "execution_count": 9,
   "metadata": {},
   "outputs": [
    {
     "name": "stdout",
     "output_type": "stream",
     "text": [
      "<class 'pandas.core.frame.DataFrame'>\n",
      "Int64Index: 1041952 entries, 100 to 2260664\n",
      "Columns: 145 entries, id to settlement_term\n",
      "dtypes: float64(105), int64(4), object(36)\n",
      "memory usage: 1.1+ GB\n"
     ]
    }
   ],
   "source": [
    "paid_df = df[df['loan_status'] == 'Fully Paid']\n",
    "paid_df.info()"
   ]
  },
  {
   "cell_type": "code",
   "execution_count": 10,
   "metadata": {},
   "outputs": [
    {
     "data": {
      "text/plain": [
       "count    1.041952e+06\n",
       "mean     1.264076e+01\n",
       "std      4.520709e+00\n",
       "min      5.310000e+00\n",
       "25%      9.170000e+00\n",
       "50%      1.229000e+01\n",
       "75%      1.531000e+01\n",
       "max      3.099000e+01\n",
       "Name: int_rate, dtype: float64"
      ]
     },
     "execution_count": 10,
     "metadata": {},
     "output_type": "execute_result"
    }
   ],
   "source": [
    "paid_df['int_rate'].describe()"
   ]
  },
  {
   "cell_type": "markdown",
   "execution_count": null,
   "metadata": {},
   "source": [
    "# 4. Methods\n",
    "\n",
    "There are >287k records that are late and >1M records that are fully paid.  Sample size is not an issue, although the fully paid sample size is larger.\n",
    "\n",
    "An A/B test will be used to determine if there's a significant difference in the sample means.  And if so, a confidence internval will be calculated.\n",
    "\n"
   ]
  },
  {
   "cell_type": "code",
   "execution_count": 11,
   "metadata": {},
   "outputs": [
    {
     "data": {
      "text/plain": [
       "0"
      ]
     },
     "execution_count": 11,
     "metadata": {},
     "output_type": "execute_result"
    }
   ],
   "source": [
    "# check for nan, paid\n",
    "paid_df['int_rate'].isna().sum()"
   ]
  },
  {
   "cell_type": "code",
   "execution_count": 12,
   "metadata": {},
   "outputs": [
    {
     "data": {
      "text/plain": [
       "0"
      ]
     },
     "execution_count": 12,
     "metadata": {},
     "output_type": "execute_result"
    }
   ],
   "source": [
    "# check for nan, late\n",
    "late_df['int_rate'].isna().sum()"
   ]
  },
  {
   "cell_type": "markdown",
   "execution_count": null,
   "metadata": {},
   "source": [
    "There are no na records in either the paid or late data."
   ]
  },
  {
   "cell_type": "markdown",
   "execution_count": null,
   "metadata": {},
   "source": [
    "Before running a statistic test, determine if the distributions are normal."
   ]
  },
  {
   "cell_type": "code",
   "execution_count": 13,
   "metadata": {},
   "outputs": [
    {
     "name": "stdout",
     "output_type": "stream",
     "text": [
      "DescribeResult(nobs=1041952, minmax=(5.31, 30.99), mean=12.640755370688865, variance=20.4368071169162, skewness=0.74788411584687, kurtosis=0.6430270221386412)\n"
     ]
    },
    {
     "data": {
      "text/plain": [
       "<matplotlib.axes._subplots.AxesSubplot at 0x7f700ac4ab00>"
      ]
     },
     "execution_count": 13,
     "metadata": {},
     "output_type": "execute_result"
    },
    {
     "data": {
      "image/png": "[encoded data removed]",
      "text/plain": [
       "<Figure size 432x288 with 1 Axes>"
      ]
     },
     "metadata": {
      "needs_background": "light"
     },
     "output_type": "display_data"
    }
   ],
   "source": [
    "# histogram for fully paid\n",
    "print(stats.describe(paid_df['int_rate']) )\n",
    "paid_df['int_rate'].hist(bins=20)"
   ]
  },
  {
   "cell_type": "code",
   "execution_count": 14,
   "metadata": {},
   "outputs": [
    {
     "name": "stdout",
     "output_type": "stream",
     "text": [
      "DescribeResult(nobs=287320, minmax=(5.31, 30.99), mean=15.709039990254768, variance=24.39897423734772, skewness=0.579944262902025, kurtosis=0.1999527611431322)\n"
     ]
    },
    {
     "data": {
      "text/plain": [
       "<matplotlib.axes._subplots.AxesSubplot at 0x7f700ac35d30>"
      ]
     },
     "execution_count": 14,
     "metadata": {},
     "output_type": "execute_result"
    },
    {
     "data": {
      "image/png": "[encoded data removed]",
      "text/plain": [
       "<Figure size 432x288 with 1 Axes>"
      ]
     },
     "metadata": {
      "needs_background": "light"
     },
     "output_type": "display_data"
    }
   ],
   "source": [
    "# histogram for late\n",
    "print(stats.describe(late_df['int_rate']) )\n",
    "late_df['int_rate'].hist(bins=20)"
   ]
  },
  {
   "cell_type": "markdown",
   "execution_count": null,
   "metadata": {},
   "source": [
    "Parameters have some skewness/kurtosis but look normal, ready to run a t-test"
   ]
  },
  {
   "cell_type": "code",
   "execution_count": 15,
   "metadata": {},
   "outputs": [
    {
     "data": {
      "text/plain": [
       "Ttest_indResult(statistic=-315.5548171583103, pvalue=0.0)"
      ]
     },
     "execution_count": 15,
     "metadata": {},
     "output_type": "execute_result"
    }
   ],
   "source": [
    "# run t-test \n",
    "stats.ttest_ind(paid_df['int_rate'], late_df['int_rate'])"
   ]
  },
  {
   "cell_type": "markdown",
   "execution_count": null,
   "metadata": {},
   "source": [
    "The p-value of the t-test is <0.05, which means we can reject the null hypothesis. There is a significant differnce between the interest rates charged for loans that were fully paid versus loans that are either late or in default."
   ]
  },
  {
   "cell_type": "markdown",
   "execution_count": null,
   "metadata": {},
   "source": [
    "# 5. Results\n",
    "\n",
    "There is a significant difference for interest rate charged for loans that are delinquent vs loans that were paid off.  This interest rate is a fixed rate and determined when the loan was originated.  \n",
    "\n",
    "To determine the exact value of the difference, a confidence interval can be calculated."
   ]
  },
  {
   "cell_type": "code",
   "execution_count": 16,
   "metadata": {},
   "outputs": [
    {
     "data": {
      "text/plain": [
       "'The difference in means at the 95% confidence interval (two-tail) is between -3.0883239423468005 and -3.0482452967604345.'"
      ]
     },
     "execution_count": 16,
     "metadata": {},
     "output_type": "execute_result"
    }
   ],
   "source": [
    "# confidence interval, from lecture\n",
    "import math\n",
    "def get_95_ci(array_1, array_2):\n",
    "    sample_1_n = array_1.shape[0]\n",
    "    sample_2_n = array_2.shape[0]\n",
    "    sample_1_mean = array_1.mean()\n",
    "    sample_2_mean = array_2.mean()\n",
    "    sample_1_var = array_1.var()\n",
    "    sample_2_var = array_2.var()\n",
    "    mean_difference = sample_2_mean - sample_1_mean\n",
    "    std_err_difference = math.sqrt((sample_1_var/sample_1_n)+(sample_2_var/sample_2_n))\n",
    "    margin_of_error = 1.96 * std_err_difference\n",
    "    ci_lower = mean_difference - margin_of_error\n",
    "    ci_upper = mean_difference + margin_of_error\n",
    "    return(\"The difference in means at the 95% confidence interval (two-tail) is between \"+str(ci_lower)+\" and \"+str(ci_upper)+\".\")\n",
    "\n",
    "get_95_ci(late_df['int_rate'],paid_df['int_rate'])"
   ]
  },
  {
   "cell_type": "markdown",
   "execution_count": null,
   "metadata": {},
   "source": [
    "\n",
    "Loans that were fully paid off have an interest rate about 3% below loans that are late.\n",
    "\n",
    "In general, Lending Club's risk model is performing acceptably (loans that are late have higher interest rate versus loans that are paid off)."
   ]
  },
  {
   "cell_type": "markdown",
   "execution_count": null,
   "metadata": {},
   "source": [
    "# 6. Discussion\n",
    "\n",
    "Since there are quite a few records, the risk model performance can be further evaluated by reviewing its performance vs geographical areas (zip code, state), funded_amount, verification status etc.  Such analysis could lead to tweeks in the risk model algorithm."
   ]
  }
 ],
 "metadata": {
  "kernelspec": {
   "display_name": "Python 3",
   "language": "python",
   "name": "python3"
  },
  "language_info": {
   "codemirror_mode": {
    "name": "ipython",
    "version": 3
   },
   "file_extension": ".py",
   "mimetype": "text/x-python",
   "name": "python",
   "nbconvert_exporter": "python",
   "pygments_lexer": "ipython3",
   "version": "3.6.6"
  }
 },
 "nbformat": 4,
 "nbformat_minor": 4
}
